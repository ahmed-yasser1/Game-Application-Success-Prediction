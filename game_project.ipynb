{
  "cells": [
    {
      "cell_type": "markdown",
      "metadata": {
        "colab_type": "text",
        "id": "view-in-github"
      },
      "source": [
        "<a href=\"https://colab.research.google.com/github/ahmed-yasser1/Game-Application-Success-Prediction/blob/main/game_project.ipynb\" target=\"_parent\"><img src=\"https://colab.research.google.com/assets/colab-badge.svg\" alt=\"Open In Colab\"/></a>"
      ]
    },
    {
      "cell_type": "code",
      "execution_count": 81,
      "id": "8f5c3b69",
      "metadata": {
        "id": "8f5c3b69"
      },
      "outputs": [],
      "source": [
        "import pandas as pd\n",
        "import numpy as np\n",
        "import matplotlib.pyplot as plt\n",
        "import seaborn as sns\n",
        "from sklearn import metrics"
      ]
    },
    {
      "cell_type": "code",
      "execution_count": 82,
      "id": "748ae086",
      "metadata": {
        "id": "748ae086",
        "outputId": "70a7d5a2-0545-4775-e686-de615a2f83a0"
      },
      "outputs": [
        {
          "data": {
            "text/html": [
              "<div>\n",
              "<style scoped>\n",
              "    .dataframe tbody tr th:only-of-type {\n",
              "        vertical-align: middle;\n",
              "    }\n",
              "\n",
              "    .dataframe tbody tr th {\n",
              "        vertical-align: top;\n",
              "    }\n",
              "\n",
              "    .dataframe thead th {\n",
              "        text-align: right;\n",
              "    }\n",
              "</style>\n",
              "<table border=\"1\" class=\"dataframe\">\n",
              "  <thead>\n",
              "    <tr style=\"text-align: right;\">\n",
              "      <th></th>\n",
              "      <th>URL</th>\n",
              "      <th>ID</th>\n",
              "      <th>Name</th>\n",
              "      <th>Subtitle</th>\n",
              "      <th>Icon URL</th>\n",
              "      <th>User Rating Count</th>\n",
              "      <th>Price</th>\n",
              "      <th>In-app Purchases</th>\n",
              "      <th>Description</th>\n",
              "      <th>Developer</th>\n",
              "      <th>Age Rating</th>\n",
              "      <th>Languages</th>\n",
              "      <th>Size</th>\n",
              "      <th>Primary Genre</th>\n",
              "      <th>Genres</th>\n",
              "      <th>Original Release Date</th>\n",
              "      <th>Current Version Release Date</th>\n",
              "      <th>Average User Rating</th>\n",
              "    </tr>\n",
              "  </thead>\n",
              "  <tbody>\n",
              "    <tr>\n",
              "      <th>0</th>\n",
              "      <td>https://apps.apple.com/us/app/heir-of-light/id...</td>\n",
              "      <td>1264483706</td>\n",
              "      <td>HEIR OF LIGHT</td>\n",
              "      <td>Dark Fantasy RPG</td>\n",
              "      <td>https://is3-ssl.mzstatic.com/image/thumb/Purpl...</td>\n",
              "      <td>982</td>\n",
              "      <td>0.00</td>\n",
              "      <td>29.99, 19.99, 9.99, 29.99, 29.99, 8.99, 4.99, ...</td>\n",
              "      <td>A Dark Fantasy, Collectible RPG\\n\\nDarkness ha...</td>\n",
              "      <td>GAMEVIL Inc.</td>\n",
              "      <td>12+</td>\n",
              "      <td>EN, FR, DE, JA, KO, ZH, ES, TH, ZH, VI</td>\n",
              "      <td>894489600</td>\n",
              "      <td>Games</td>\n",
              "      <td>Games, Role Playing, Strategy</td>\n",
              "      <td>6/3/2018</td>\n",
              "      <td>31/07/2019</td>\n",
              "      <td>4.0</td>\n",
              "    </tr>\n",
              "    <tr>\n",
              "      <th>1</th>\n",
              "      <td>https://apps.apple.com/us/app/endgame-eurasia/...</td>\n",
              "      <td>607705356</td>\n",
              "      <td>Endgame:Eurasia</td>\n",
              "      <td>NaN</td>\n",
              "      <td>https://is4-ssl.mzstatic.com/image/thumb/Purpl...</td>\n",
              "      <td>19</td>\n",
              "      <td>0.00</td>\n",
              "      <td>NaN</td>\n",
              "      <td>\"This interactive experience is an exploration...</td>\n",
              "      <td>Auroch Digital Ltd</td>\n",
              "      <td>12+</td>\n",
              "      <td>EN</td>\n",
              "      <td>116407296</td>\n",
              "      <td>Games</td>\n",
              "      <td>Games, Simulation, Strategy, News</td>\n",
              "      <td>21/03/2013</td>\n",
              "      <td>28/06/2017</td>\n",
              "      <td>3.5</td>\n",
              "    </tr>\n",
              "    <tr>\n",
              "      <th>2</th>\n",
              "      <td>https://apps.apple.com/us/app/free-solitaire/i...</td>\n",
              "      <td>627491527</td>\n",
              "      <td>Free Solitaire+</td>\n",
              "      <td>NaN</td>\n",
              "      <td>https://is5-ssl.mzstatic.com/image/thumb/Purpl...</td>\n",
              "      <td>14</td>\n",
              "      <td>0.00</td>\n",
              "      <td>NaN</td>\n",
              "      <td>Same Solitaire game with classic Solitaire run...</td>\n",
              "      <td>Chen Zhong Yuan</td>\n",
              "      <td>4+</td>\n",
              "      <td>EN, ZH</td>\n",
              "      <td>50647040</td>\n",
              "      <td>Games</td>\n",
              "      <td>Games, Strategy, Entertainment, Card</td>\n",
              "      <td>4/4/2013</td>\n",
              "      <td>21/04/2015</td>\n",
              "      <td>4.5</td>\n",
              "    </tr>\n",
              "    <tr>\n",
              "      <th>3</th>\n",
              "      <td>https://apps.apple.com/us/app/draft-trainer/id...</td>\n",
              "      <td>430252596</td>\n",
              "      <td>Draft Trainer</td>\n",
              "      <td>NaN</td>\n",
              "      <td>https://is1-ssl.mzstatic.com/image/thumb/Purpl...</td>\n",
              "      <td>88</td>\n",
              "      <td>1.99</td>\n",
              "      <td>NaN</td>\n",
              "      <td>** Discounted for a limited time **\\n\\nEver wo...</td>\n",
              "      <td>GG Wizards, LLC</td>\n",
              "      <td>9+</td>\n",
              "      <td>EN</td>\n",
              "      <td>28120064</td>\n",
              "      <td>Games</td>\n",
              "      <td>Games, Utilities, Card, Strategy</td>\n",
              "      <td>26/05/2011</td>\n",
              "      <td>23/07/2019</td>\n",
              "      <td>3.5</td>\n",
              "    </tr>\n",
              "    <tr>\n",
              "      <th>4</th>\n",
              "      <td>https://apps.apple.com/us/app/rogue-knight-inf...</td>\n",
              "      <td>1115082819</td>\n",
              "      <td>Rogue Knight: Infested Lands</td>\n",
              "      <td>Tactical roguelike w/ stealth</td>\n",
              "      <td>https://is2-ssl.mzstatic.com/image/thumb/Purpl...</td>\n",
              "      <td>13</td>\n",
              "      <td>3.99</td>\n",
              "      <td>NaN</td>\n",
              "      <td>Fight or sneak your way through hordes of mons...</td>\n",
              "      <td>Luis Regueira</td>\n",
              "      <td>12+</td>\n",
              "      <td>EN</td>\n",
              "      <td>39915520</td>\n",
              "      <td>Games</td>\n",
              "      <td>Games, Role Playing, Strategy</td>\n",
              "      <td>19/05/2017</td>\n",
              "      <td>6/2/2019</td>\n",
              "      <td>4.5</td>\n",
              "    </tr>\n",
              "  </tbody>\n",
              "</table>\n",
              "</div>"
            ],
            "text/plain": [
              "                                                 URL          ID  \\\n",
              "0  https://apps.apple.com/us/app/heir-of-light/id...  1264483706   \n",
              "1  https://apps.apple.com/us/app/endgame-eurasia/...   607705356   \n",
              "2  https://apps.apple.com/us/app/free-solitaire/i...   627491527   \n",
              "3  https://apps.apple.com/us/app/draft-trainer/id...   430252596   \n",
              "4  https://apps.apple.com/us/app/rogue-knight-inf...  1115082819   \n",
              "\n",
              "                           Name                       Subtitle  \\\n",
              "0                 HEIR OF LIGHT               Dark Fantasy RPG   \n",
              "1               Endgame:Eurasia                            NaN   \n",
              "2               Free Solitaire+                            NaN   \n",
              "3                 Draft Trainer                            NaN   \n",
              "4  Rogue Knight: Infested Lands  Tactical roguelike w/ stealth   \n",
              "\n",
              "                                            Icon URL  User Rating Count  \\\n",
              "0  https://is3-ssl.mzstatic.com/image/thumb/Purpl...                982   \n",
              "1  https://is4-ssl.mzstatic.com/image/thumb/Purpl...                 19   \n",
              "2  https://is5-ssl.mzstatic.com/image/thumb/Purpl...                 14   \n",
              "3  https://is1-ssl.mzstatic.com/image/thumb/Purpl...                 88   \n",
              "4  https://is2-ssl.mzstatic.com/image/thumb/Purpl...                 13   \n",
              "\n",
              "   Price                                   In-app Purchases  \\\n",
              "0   0.00  29.99, 19.99, 9.99, 29.99, 29.99, 8.99, 4.99, ...   \n",
              "1   0.00                                                NaN   \n",
              "2   0.00                                                NaN   \n",
              "3   1.99                                                NaN   \n",
              "4   3.99                                                NaN   \n",
              "\n",
              "                                         Description           Developer  \\\n",
              "0  A Dark Fantasy, Collectible RPG\\n\\nDarkness ha...        GAMEVIL Inc.   \n",
              "1  \"This interactive experience is an exploration...  Auroch Digital Ltd   \n",
              "2  Same Solitaire game with classic Solitaire run...     Chen Zhong Yuan   \n",
              "3  ** Discounted for a limited time **\\n\\nEver wo...     GG Wizards, LLC   \n",
              "4  Fight or sneak your way through hordes of mons...       Luis Regueira   \n",
              "\n",
              "  Age Rating                               Languages       Size Primary Genre  \\\n",
              "0        12+  EN, FR, DE, JA, KO, ZH, ES, TH, ZH, VI  894489600         Games   \n",
              "1        12+                                      EN  116407296         Games   \n",
              "2         4+                                  EN, ZH   50647040         Games   \n",
              "3         9+                                      EN   28120064         Games   \n",
              "4        12+                                      EN   39915520         Games   \n",
              "\n",
              "                                 Genres Original Release Date  \\\n",
              "0         Games, Role Playing, Strategy              6/3/2018   \n",
              "1     Games, Simulation, Strategy, News            21/03/2013   \n",
              "2  Games, Strategy, Entertainment, Card              4/4/2013   \n",
              "3      Games, Utilities, Card, Strategy            26/05/2011   \n",
              "4         Games, Role Playing, Strategy            19/05/2017   \n",
              "\n",
              "  Current Version Release Date  Average User Rating  \n",
              "0                   31/07/2019                  4.0  \n",
              "1                   28/06/2017                  3.5  \n",
              "2                   21/04/2015                  4.5  \n",
              "3                   23/07/2019                  3.5  \n",
              "4                     6/2/2019                  4.5  "
            ]
          },
          "execution_count": 82,
          "metadata": {},
          "output_type": "execute_result"
        }
      ],
      "source": [
        "data=pd.read_csv(\"./games-regression-dataset.csv\")\n",
        "data.head()"
      ]
    },
    {
      "cell_type": "code",
      "execution_count": 83,
      "id": "a1ec38d1",
      "metadata": {
        "id": "a1ec38d1",
        "outputId": "8fe0f62c-1df4-477a-ba22-5b3eaf572c50"
      },
      "outputs": [
        {
          "name": "stdout",
          "output_type": "stream",
          "text": [
            "<class 'pandas.core.frame.DataFrame'>\n",
            "RangeIndex: 5214 entries, 0 to 5213\n",
            "Data columns (total 18 columns):\n",
            " #   Column                        Non-Null Count  Dtype  \n",
            "---  ------                        --------------  -----  \n",
            " 0   URL                           5214 non-null   object \n",
            " 1   ID                            5214 non-null   int64  \n",
            " 2   Name                          5214 non-null   object \n",
            " 3   Subtitle                      1465 non-null   object \n",
            " 4   Icon URL                      5214 non-null   object \n",
            " 5   User Rating Count             5214 non-null   int64  \n",
            " 6   Price                         5214 non-null   float64\n",
            " 7   In-app Purchases              3175 non-null   object \n",
            " 8   Description                   5214 non-null   object \n",
            " 9   Developer                     5214 non-null   object \n",
            " 10  Age Rating                    5214 non-null   object \n",
            " 11  Languages                     5203 non-null   object \n",
            " 12  Size                          5214 non-null   int64  \n",
            " 13  Primary Genre                 5214 non-null   object \n",
            " 14  Genres                        5214 non-null   object \n",
            " 15  Original Release Date         5214 non-null   object \n",
            " 16  Current Version Release Date  5214 non-null   object \n",
            " 17  Average User Rating           5214 non-null   float64\n",
            "dtypes: float64(2), int64(3), object(13)\n",
            "memory usage: 733.3+ KB\n"
          ]
        }
      ],
      "source": [
        "data.info()"
      ]
    },
    {
      "cell_type": "code",
      "execution_count": 84,
      "id": "a1adcd54",
      "metadata": {
        "id": "a1adcd54",
        "outputId": "61396ddf-f96a-4fcd-f0bd-88ebe5036242"
      },
      "outputs": [
        {
          "data": {
            "text/plain": [
              "(5214, 18)"
            ]
          },
          "execution_count": 84,
          "metadata": {},
          "output_type": "execute_result"
        }
      ],
      "source": [
        "data.shape"
      ]
    },
    {
      "cell_type": "code",
      "execution_count": 85,
      "id": "eaed2e29",
      "metadata": {
        "id": "eaed2e29",
        "outputId": "c4dd7228-5379-46ee-ab25-96e8699d8f29"
      },
      "outputs": [
        {
          "data": {
            "text/html": [
              "<div>\n",
              "<style scoped>\n",
              "    .dataframe tbody tr th:only-of-type {\n",
              "        vertical-align: middle;\n",
              "    }\n",
              "\n",
              "    .dataframe tbody tr th {\n",
              "        vertical-align: top;\n",
              "    }\n",
              "\n",
              "    .dataframe thead th {\n",
              "        text-align: right;\n",
              "    }\n",
              "</style>\n",
              "<table border=\"1\" class=\"dataframe\">\n",
              "  <thead>\n",
              "    <tr style=\"text-align: right;\">\n",
              "      <th></th>\n",
              "      <th>ID</th>\n",
              "      <th>User Rating Count</th>\n",
              "      <th>Price</th>\n",
              "      <th>Size</th>\n",
              "      <th>Average User Rating</th>\n",
              "    </tr>\n",
              "  </thead>\n",
              "  <tbody>\n",
              "    <tr>\n",
              "      <th>count</th>\n",
              "      <td>5.214000e+03</td>\n",
              "      <td>5.214000e+03</td>\n",
              "      <td>5214.000000</td>\n",
              "      <td>5.214000e+03</td>\n",
              "      <td>5214.000000</td>\n",
              "    </tr>\n",
              "    <tr>\n",
              "      <th>mean</th>\n",
              "      <td>8.679120e+08</td>\n",
              "      <td>3.669878e+03</td>\n",
              "      <td>0.602551</td>\n",
              "      <td>1.379577e+08</td>\n",
              "      <td>4.032988</td>\n",
              "    </tr>\n",
              "    <tr>\n",
              "      <th>std</th>\n",
              "      <td>2.941461e+08</td>\n",
              "      <td>4.977621e+04</td>\n",
              "      <td>2.551937</td>\n",
              "      <td>2.526826e+08</td>\n",
              "      <td>0.751854</td>\n",
              "    </tr>\n",
              "    <tr>\n",
              "      <th>min</th>\n",
              "      <td>2.849214e+08</td>\n",
              "      <td>5.000000e+00</td>\n",
              "      <td>0.000000</td>\n",
              "      <td>2.158400e+05</td>\n",
              "      <td>1.000000</td>\n",
              "    </tr>\n",
              "    <tr>\n",
              "      <th>25%</th>\n",
              "      <td>5.954790e+08</td>\n",
              "      <td>1.300000e+01</td>\n",
              "      <td>0.000000</td>\n",
              "      <td>2.751732e+07</td>\n",
              "      <td>3.500000</td>\n",
              "    </tr>\n",
              "    <tr>\n",
              "      <th>50%</th>\n",
              "      <td>9.194275e+08</td>\n",
              "      <td>4.900000e+01</td>\n",
              "      <td>0.000000</td>\n",
              "      <td>6.740582e+07</td>\n",
              "      <td>4.000000</td>\n",
              "    </tr>\n",
              "    <tr>\n",
              "      <th>75%</th>\n",
              "      <td>1.114815e+09</td>\n",
              "      <td>3.320000e+02</td>\n",
              "      <td>0.000000</td>\n",
              "      <td>1.592689e+08</td>\n",
              "      <td>4.500000</td>\n",
              "    </tr>\n",
              "    <tr>\n",
              "      <th>max</th>\n",
              "      <td>1.341837e+09</td>\n",
              "      <td>3.032734e+06</td>\n",
              "      <td>139.990000</td>\n",
              "      <td>4.005591e+09</td>\n",
              "      <td>5.000000</td>\n",
              "    </tr>\n",
              "  </tbody>\n",
              "</table>\n",
              "</div>"
            ],
            "text/plain": [
              "                 ID  User Rating Count        Price          Size  \\\n",
              "count  5.214000e+03       5.214000e+03  5214.000000  5.214000e+03   \n",
              "mean   8.679120e+08       3.669878e+03     0.602551  1.379577e+08   \n",
              "std    2.941461e+08       4.977621e+04     2.551937  2.526826e+08   \n",
              "min    2.849214e+08       5.000000e+00     0.000000  2.158400e+05   \n",
              "25%    5.954790e+08       1.300000e+01     0.000000  2.751732e+07   \n",
              "50%    9.194275e+08       4.900000e+01     0.000000  6.740582e+07   \n",
              "75%    1.114815e+09       3.320000e+02     0.000000  1.592689e+08   \n",
              "max    1.341837e+09       3.032734e+06   139.990000  4.005591e+09   \n",
              "\n",
              "       Average User Rating  \n",
              "count          5214.000000  \n",
              "mean              4.032988  \n",
              "std               0.751854  \n",
              "min               1.000000  \n",
              "25%               3.500000  \n",
              "50%               4.000000  \n",
              "75%               4.500000  \n",
              "max               5.000000  "
            ]
          },
          "execution_count": 85,
          "metadata": {},
          "output_type": "execute_result"
        }
      ],
      "source": [
        "data.describe()"
      ]
    },
    {
      "cell_type": "code",
      "execution_count": 86,
      "id": "84dc16a9",
      "metadata": {
        "id": "84dc16a9",
        "outputId": "6d270e66-316a-4b19-a389-07cc76d0aa5e"
      },
      "outputs": [
        {
          "data": {
            "text/plain": [
              "Subtitle                        3749\n",
              "In-app Purchases                2039\n",
              "Languages                         11\n",
              "URL                                0\n",
              "Age Rating                         0\n",
              "Current Version Release Date       0\n",
              "Original Release Date              0\n",
              "Genres                             0\n",
              "Primary Genre                      0\n",
              "Size                               0\n",
              "Developer                          0\n",
              "ID                                 0\n",
              "Description                        0\n",
              "Price                              0\n",
              "User Rating Count                  0\n",
              "Icon URL                           0\n",
              "Name                               0\n",
              "Average User Rating                0\n",
              "dtype: int64"
            ]
          },
          "execution_count": 86,
          "metadata": {},
          "output_type": "execute_result"
        }
      ],
      "source": [
        "data.isnull().sum().sort_values(ascending=False)"
      ]
    },
    {
      "cell_type": "code",
      "execution_count": 87,
      "id": "198901f9",
      "metadata": {
        "id": "198901f9"
      },
      "outputs": [],
      "source": [
        "data.drop(['Subtitle','In-app Purchases'],axis=1,inplace=True)"
      ]
    },
    {
      "cell_type": "code",
      "execution_count": 88,
      "id": "70784435",
      "metadata": {
        "id": "70784435"
      },
      "outputs": [],
      "source": [
        "data['Languages'].fillna(data['Languages'].mode()[0], inplace=True)"
      ]
    },
    {
      "cell_type": "code",
      "execution_count": 89,
      "id": "33324de4",
      "metadata": {
        "id": "33324de4",
        "outputId": "2bac3641-2a1a-414f-f293-a843394442f0"
      },
      "outputs": [
        {
          "data": {
            "text/plain": [
              "43"
            ]
          },
          "execution_count": 89,
          "metadata": {},
          "output_type": "execute_result"
        }
      ],
      "source": [
        "data.duplicated().sum()\n",
        "#remove them"
      ]
    },
    {
      "cell_type": "code",
      "execution_count": 90,
      "id": "6fd7f669",
      "metadata": {
        "id": "6fd7f669"
      },
      "outputs": [],
      "source": [
        "data.drop_duplicates(inplace=True)"
      ]
    },
    {
      "cell_type": "markdown",
      "id": "60c95fbf",
      "metadata": {
        "id": "60c95fbf"
      },
      "source": [
        "# EDA"
      ]
    },
    {
      "cell_type": "code",
      "execution_count": 91,
      "id": "6b895880",
      "metadata": {
        "id": "6b895880",
        "outputId": "d67b0e16-36dd-4010-b9ea-a5a2da539de5"
      },
      "outputs": [
        {
          "data": {
            "text/plain": [
              "<Axes: ylabel='count'>"
            ]
          },
          "execution_count": 91,
          "metadata": {},
          "output_type": "execute_result"
        },
        {
          "data": {
            "image/png": "[encoded data removed]",
            "text/plain": [
              "<Figure size 640x480 with 1 Axes>"
            ]
          },
          "metadata": {},
          "output_type": "display_data"
        }
      ],
      "source": [
        "sns.countplot(data['Average User Rating'])"
      ]
    },
    {
      "cell_type": "code",
      "execution_count": 92,
      "id": "a4c04922",
      "metadata": {
        "id": "a4c04922",
        "outputId": "c7219ab4-4247-40b5-dfd9-28ab6d914612"
      },
      "outputs": [],
      "source": [
        "# sns.countplot(data['Age Rating'])"
      ]
    },
    {
      "cell_type": "code",
      "execution_count": 93,
      "id": "400d112f",
      "metadata": {
        "id": "400d112f",
        "outputId": "08e283ba-13ed-433a-e6eb-9ff968b06df1"
      },
      "outputs": [
        {
          "data": {
            "image/png": "[encoded data removed]",
            "text/plain": [
              "<Figure size 1500x600 with 1 Axes>"
            ]
          },
          "metadata": {},
          "output_type": "display_data"
        }
      ],
      "source": [
        "plt.figure(figsize=(15,6))\n",
        "ax = sns.countplot(x ='Age Rating',hue='Average User Rating', data = data)\n",
        "plt.title(\" Count of each user rating for the same age rating   \",color=\"red\");"
      ]
    },
    {
      "cell_type": "code",
      "execution_count": null,
      "id": "f08f26a9",
      "metadata": {
        "id": "f08f26a9"
      },
      "outputs": [],
      "source": []
    },
    {
      "cell_type": "code",
      "execution_count": 94,
      "id": "90405fc7",
      "metadata": {
        "id": "90405fc7",
        "outputId": "ecdf7049-11e8-491a-bf8b-1447499370cb"
      },
      "outputs": [
        {
          "name": "stderr",
          "output_type": "stream",
          "text": [
            "/tmp/ipykernel_27082/368225549.py:2: UserWarning: \n",
            "\n",
            "`distplot` is a deprecated function and will be removed in seaborn v0.14.0.\n",
            "\n",
            "Please adapt your code to use either `displot` (a figure-level function with\n",
            "similar flexibility) or `histplot` (an axes-level function for histograms).\n",
            "\n",
            "For a guide to updating your code to use the new functions, please see\n",
            "https://gist.github.com/mwaskom/de44147ed2974457ad6372750bbe5751\n",
            "\n",
            "  sns.distplot(data['Size'])\n"
          ]
        },
        {
          "data": {
            "text/plain": [
              "<Axes: xlabel='Size', ylabel='Density'>"
            ]
          },
          "execution_count": 94,
          "metadata": {},
          "output_type": "execute_result"
        },
        {
          "data": {
            "image/png": "[encoded data removed]",
            "text/plain": [
              "<Figure size 1500x400 with 1 Axes>"
            ]
          },
          "metadata": {},
          "output_type": "display_data"
        }
      ],
      "source": [
        "plt.figure(figsize=(15,4))\n",
        "sns.distplot(data['Size'])"
      ]
    },
    {
      "cell_type": "code",
      "execution_count": 95,
      "id": "61e29859",
      "metadata": {
        "id": "61e29859"
      },
      "outputs": [],
      "source": [
        "Q1 = data['Size'].quantile(0.25)\n",
        "Q3 = data['Size'].quantile(0.75)\n",
        "\n",
        "x1=data[data['Size']<Q1]\n",
        "x2=data[(data['Size']>Q1) & (data['Size']<Q3)]\n",
        "x3=data[data['Size']>Q3]\n"
      ]
    },
    {
      "cell_type": "code",
      "execution_count": 96,
      "id": "4135ea61",
      "metadata": {
        "id": "4135ea61",
        "outputId": "a1519195-d36a-470c-b8ba-80a2e8fc2bfa"
      },
      "outputs": [],
      "source": [
        "#sns.countplot(x1['Average User Rating'])\n",
        "#plt.title(\" Count of each user rating for the first quantile  \",color=\"red\");"
      ]
    },
    {
      "cell_type": "code",
      "execution_count": 97,
      "id": "9520209d",
      "metadata": {
        "id": "9520209d",
        "outputId": "62064ed6-37e9-43bc-87ea-0a672431b8c1"
      },
      "outputs": [],
      "source": [
        "#sns.countplot(x2['Average User Rating'])\n",
        "#plt.title(\" Count of each user rating for the seconde and third quantile  \",color=\"red\");"
      ]
    },
    {
      "cell_type": "code",
      "execution_count": 98,
      "id": "681191ea",
      "metadata": {
        "id": "681191ea",
        "outputId": "822a6f20-a81f-48c5-b8be-6cdebfc41980"
      },
      "outputs": [],
      "source": [
        "#sns.countplot(x3['Average User Rating'])\n",
        "#plt.title(\" Count of each user rating for the fourth quantile  \",color=\"red\");"
      ]
    },
    {
      "cell_type": "code",
      "execution_count": 99,
      "id": "ff77bfd3",
      "metadata": {
        "id": "ff77bfd3",
        "outputId": "0ddbecda-fd84-4ce1-eae3-b1a1f5b7945e"
      },
      "outputs": [
        {
          "name": "stderr",
          "output_type": "stream",
          "text": [
            "/tmp/ipykernel_27082/2566274400.py:2: UserWarning: \n",
            "\n",
            "`distplot` is a deprecated function and will be removed in seaborn v0.14.0.\n",
            "\n",
            "Please adapt your code to use either `displot` (a figure-level function with\n",
            "similar flexibility) or `histplot` (an axes-level function for histograms).\n",
            "\n",
            "For a guide to updating your code to use the new functions, please see\n",
            "https://gist.github.com/mwaskom/de44147ed2974457ad6372750bbe5751\n",
            "\n",
            "  sns.distplot(data['Price'])\n"
          ]
        },
        {
          "data": {
            "text/plain": [
              "<Axes: xlabel='Price', ylabel='Density'>"
            ]
          },
          "execution_count": 99,
          "metadata": {},
          "output_type": "execute_result"
        },
        {
          "data": {
            "image/png": "[encoded data removed]",
            "text/plain": [
              "<Figure size 1500x400 with 1 Axes>"
            ]
          },
          "metadata": {},
          "output_type": "display_data"
        }
      ],
      "source": [
        "plt.figure(figsize=(15,4))\n",
        "sns.distplot(data['Price'])"
      ]
    },
    {
      "cell_type": "code",
      "execution_count": 100,
      "id": "744fcc56",
      "metadata": {
        "id": "744fcc56",
        "outputId": "91470f92-4b61-4f58-d56e-d5f7dcbb5301"
      },
      "outputs": [
        {
          "data": {
            "text/plain": [
              "<seaborn.axisgrid.FacetGrid at 0x7f035644c2b0>"
            ]
          },
          "execution_count": 100,
          "metadata": {},
          "output_type": "execute_result"
        },
        {
          "data": {
            "image/png": "[encoded data removed]",
            "text/plain": [
              "<Figure size 653.736x500 with 1 Axes>"
            ]
          },
          "metadata": {},
          "output_type": "display_data"
        }
      ],
      "source": [
        "u=data[data['Price']>10]\n",
        "sns.displot(data=u, x=\"Price\", hue=\"Average User Rating\", multiple=\"stack\")"
      ]
    },
    {
      "cell_type": "code",
      "execution_count": 101,
      "id": "195e8c6f",
      "metadata": {
        "id": "195e8c6f",
        "outputId": "ce353775-b19f-487a-dbe7-6413a58a4e51"
      },
      "outputs": [
        {
          "data": {
            "text/plain": [
              "13"
            ]
          },
          "execution_count": 101,
          "metadata": {},
          "output_type": "execute_result"
        }
      ],
      "source": [
        "len(u)"
      ]
    },
    {
      "cell_type": "code",
      "execution_count": 102,
      "id": "468f5959",
      "metadata": {
        "id": "468f5959",
        "outputId": "1fd38753-1c71-4eae-9a75-1d6cc596a6e2"
      },
      "outputs": [
        {
          "data": {
            "image/png": "[encoded data removed]",
            "text/plain": [
              "<Figure size 2000x2000 with 1 Axes>"
            ]
          },
          "metadata": {},
          "output_type": "display_data"
        }
      ],
      "source": [
        "plt.figure(figsize=(20,20))\n",
        "u=data.loc[(data[\"Primary Genre\"]!='Games')]\n",
        "\n",
        "ax = sns.countplot(x ='Primary Genre',hue='Average User Rating', data = u)\n",
        "plt.title(\" Count of each Primary Genre without Games for the same age rating\",color=\"red\");"
      ]
    },
    {
      "cell_type": "code",
      "execution_count": 103,
      "id": "950f746d",
      "metadata": {
        "id": "950f746d",
        "outputId": "0ee73419-0a9b-419d-8780-d6fa1321c1a3"
      },
      "outputs": [
        {
          "data": {
            "text/plain": [
              "199"
            ]
          },
          "execution_count": 103,
          "metadata": {},
          "output_type": "execute_result"
        }
      ],
      "source": [
        "len(u)"
      ]
    },
    {
      "cell_type": "code",
      "execution_count": 104,
      "id": "cb79819b",
      "metadata": {
        "id": "cb79819b"
      },
      "outputs": [],
      "source": [
        "# data['Original Release Date']=pd.to_datetime(data[\"Original Release Date\"], dayfirst=True)\n",
        "# data['Current Version Release Date']=pd.to_datetime(data[\"Current Version Release Date\"], dayfirst=True)\n",
        "\n",
        "# data['Original Release Year']=data['Original Release Date'].dt.year\n",
        "# data['Current Version Release Year']=data['Current Version Release Date'].dt.year\n",
        "\n",
        "\n",
        "# data.drop(['Original Release Date','Current Version Release Date'],axis=1,inplace=True)\n",
        "#  plt.figure(figsize=(15,10))\n",
        "# ax = sns.countplot(x ='Original Release Year',hue='Average User Rating', data = data)\n",
        "# plt.title(\" User Rating for each year   \",color=\"red\");"
      ]
    },
    {
      "cell_type": "code",
      "execution_count": 105,
      "id": "772b3be5",
      "metadata": {
        "id": "772b3be5",
        "outputId": "9c8f41cd-00df-4b1a-8bac-05a99904083a"
      },
      "outputs": [],
      "source": [
        "data['Original Release Date'] = pd.to_datetime(data['Original Release Date'],dayfirst=True).astype('datetime64[ns]').astype('int64')\n",
        "data['Current Version Release Date'] = pd.to_datetime(data['Current Version Release Date'],dayfirst=True).astype('datetime64[ns]').astype('int64')"
      ]
    },
    {
      "cell_type": "code",
      "execution_count": 106,
      "id": "6a22da5a",
      "metadata": {
        "id": "6a22da5a",
        "outputId": "ceabe1a2-a0b4-4407-b4fa-92a97c07b03b"
      },
      "outputs": [
        {
          "name": "stderr",
          "output_type": "stream",
          "text": [
            "/tmp/ipykernel_27082/333452909.py:1: FutureWarning: The default value of regex will change from True to False in a future version. In addition, single character regular expressions will *not* be treated as literal strings when regex=True.\n",
            "  data['Age Rating']=data['Age Rating'].str.replace('+', '')\n"
          ]
        },
        {
          "data": {
            "text/plain": [
              "0       12\n",
              "1       12\n",
              "2        4\n",
              "3        9\n",
              "4       12\n",
              "        ..\n",
              "5209    12\n",
              "5210     4\n",
              "5211     4\n",
              "5212     9\n",
              "5213     4\n",
              "Name: Age Rating, Length: 5171, dtype: int64"
            ]
          },
          "execution_count": 106,
          "metadata": {},
          "output_type": "execute_result"
        }
      ],
      "source": [
        "data['Age Rating']=data['Age Rating'].str.replace('+', '')\n",
        "data['Age Rating']=data['Age Rating'].apply(pd.to_numeric)\n",
        "data['Age Rating']"
      ]
    },
    {
      "cell_type": "code",
      "execution_count": 107,
      "id": "3f1dea7b",
      "metadata": {
        "id": "3f1dea7b",
        "outputId": "216cd809-5bcf-47a6-fb6a-858475864361"
      },
      "outputs": [],
      "source": [
        "# sns.set_theme(style=\"ticks\")\n",
        "# sns.pairplot(data, hue=\"Average User Rating\",palette=\"Spectral\")"
      ]
    },
    {
      "cell_type": "code",
      "execution_count": 108,
      "id": "ed540e16",
      "metadata": {
        "id": "ed540e16",
        "outputId": "fa5c61f6-5af0-45b2-91d3-840382566f1a"
      },
      "outputs": [
        {
          "name": "stderr",
          "output_type": "stream",
          "text": [
            "/tmp/ipykernel_27082/4029417083.py:2: FutureWarning: The default value of numeric_only in DataFrame.corr is deprecated. In a future version, it will default to False. Select only valid columns or specify the value of numeric_only to silence this warning.\n",
            "  sns.heatmap(data.corr(),annot=True)\n"
          ]
        },
        {
          "data": {
            "text/plain": [
              "<Axes: >"
            ]
          },
          "execution_count": 108,
          "metadata": {},
          "output_type": "execute_result"
        },
        {
          "data": {
            "image/png": "[encoded data removed]",
            "text/plain": [
              "<Figure size 2000x1000 with 2 Axes>"
            ]
          },
          "metadata": {},
          "output_type": "display_data"
        }
      ],
      "source": [
        "plt.figure(figsize=(20,10))\n",
        "sns.heatmap(data.corr(),annot=True)"
      ]
    },
    {
      "cell_type": "code",
      "execution_count": 109,
      "id": "87d0008b",
      "metadata": {
        "id": "87d0008b",
        "outputId": "2932c1c1-cffb-482f-8e6a-e3e97d8ba55f"
      },
      "outputs": [
        {
          "data": {
            "text/plain": [
              "Tapps Tecnologia da Informa\\xe7\\xe3o Ltda.    94\n",
              "Detention Apps                                32\n",
              "HexWar Games Ltd                              27\n",
              "EASY Inc.                                     26\n",
              "Qumaron                                       26\n",
              "                                              ..\n",
              "N3TWORK Inc.                                   1\n",
              "Freyr Games                                    1\n",
              "Joseph Lee                                     1\n",
              "Forgamer LCC                                   1\n",
              "Supervillain Studios                           1\n",
              "Name: Developer, Length: 3084, dtype: int64"
            ]
          },
          "execution_count": 109,
          "metadata": {},
          "output_type": "execute_result"
        }
      ],
      "source": [
        "data['Developer'].value_counts()"
      ]
    },
    {
      "cell_type": "code",
      "execution_count": 110,
      "id": "aeda2028",
      "metadata": {
        "id": "aeda2028",
        "outputId": "9eb02767-d2c1-4e84-ec51-626581e7afce"
      },
      "outputs": [
        {
          "data": {
            "text/plain": [
              "True"
            ]
          },
          "execution_count": 110,
          "metadata": {},
          "output_type": "execute_result"
        }
      ],
      "source": [
        "data['Name'].is_unique"
      ]
    },
    {
      "cell_type": "code",
      "execution_count": 111,
      "id": "12bda49c",
      "metadata": {
        "id": "12bda49c",
        "outputId": "62b9fede-c5b6-4e69-a09d-b448f206304d"
      },
      "outputs": [
        {
          "data": {
            "text/plain": [
              "True"
            ]
          },
          "execution_count": 111,
          "metadata": {},
          "output_type": "execute_result"
        }
      ],
      "source": [
        "data['ID'].is_unique"
      ]
    },
    {
      "cell_type": "code",
      "execution_count": 112,
      "id": "8f21620e",
      "metadata": {
        "id": "8f21620e",
        "outputId": "bbb7d2cd-0e33-441e-ad7e-c4b9a1e11c69"
      },
      "outputs": [
        {
          "data": {
            "text/plain": [
              "True"
            ]
          },
          "execution_count": 112,
          "metadata": {},
          "output_type": "execute_result"
        }
      ],
      "source": [
        "data['URL'].is_unique"
      ]
    },
    {
      "cell_type": "code",
      "execution_count": 113,
      "id": "99d9d12b",
      "metadata": {
        "id": "99d9d12b",
        "outputId": "2cdf7e53-e4bd-41f1-ec47-20868af4d256"
      },
      "outputs": [
        {
          "data": {
            "text/plain": [
              "True"
            ]
          },
          "execution_count": 113,
          "metadata": {},
          "output_type": "execute_result"
        }
      ],
      "source": [
        "data['Icon URL'].is_unique"
      ]
    },
    {
      "cell_type": "code",
      "execution_count": 114,
      "id": "7fb44812",
      "metadata": {
        "id": "7fb44812"
      },
      "outputs": [],
      "source": [
        "data['Rating']=data['Average User Rating']\n",
        "data['Primary']=data['Primary Genre']\n"
      ]
    },
    {
      "cell_type": "code",
      "execution_count": 115,
      "id": "c66a4112",
      "metadata": {
        "id": "c66a4112",
        "outputId": "b3feb49c-3079-450a-d970-95c375fb0777"
      },
      "outputs": [
        {
          "data": {
            "text/html": [
              "<div>\n",
              "<style scoped>\n",
              "    .dataframe tbody tr th:only-of-type {\n",
              "        vertical-align: middle;\n",
              "    }\n",
              "\n",
              "    .dataframe tbody tr th {\n",
              "        vertical-align: top;\n",
              "    }\n",
              "\n",
              "    .dataframe thead th {\n",
              "        text-align: right;\n",
              "    }\n",
              "</style>\n",
              "<table border=\"1\" class=\"dataframe\">\n",
              "  <thead>\n",
              "    <tr style=\"text-align: right;\">\n",
              "      <th></th>\n",
              "      <th>sum_sq</th>\n",
              "      <th>df</th>\n",
              "      <th>F</th>\n",
              "      <th>PR(&gt;F)</th>\n",
              "    </tr>\n",
              "  </thead>\n",
              "  <tbody>\n",
              "    <tr>\n",
              "      <th>Developer</th>\n",
              "      <td>2321.402389</td>\n",
              "      <td>3083.0</td>\n",
              "      <td>2.655623</td>\n",
              "      <td>1.349218e-119</td>\n",
              "    </tr>\n",
              "    <tr>\n",
              "      <th>Residual</th>\n",
              "      <td>591.742650</td>\n",
              "      <td>2087.0</td>\n",
              "      <td>NaN</td>\n",
              "      <td>NaN</td>\n",
              "    </tr>\n",
              "  </tbody>\n",
              "</table>\n",
              "</div>"
            ],
            "text/plain": [
              "                sum_sq      df         F         PR(>F)\n",
              "Developer  2321.402389  3083.0  2.655623  1.349218e-119\n",
              "Residual    591.742650  2087.0       NaN            NaN"
            ]
          },
          "execution_count": 115,
          "metadata": {},
          "output_type": "execute_result"
        }
      ],
      "source": [
        "import statsmodels.api as sm\n",
        "from statsmodels.formula.api import ols\n",
        "\n",
        "model = ols('Rating ~ Developer', data=data).fit()\n",
        "sm.stats.anova_lm(model, typ=2)"
      ]
    },
    {
      "cell_type": "code",
      "execution_count": 116,
      "id": "cb0f879f",
      "metadata": {
        "id": "cb0f879f",
        "outputId": "e3d5df10-b2d7-462f-8881-75b28daa54f0"
      },
      "outputs": [
        {
          "data": {
            "text/html": [
              "<div>\n",
              "<style scoped>\n",
              "    .dataframe tbody tr th:only-of-type {\n",
              "        vertical-align: middle;\n",
              "    }\n",
              "\n",
              "    .dataframe tbody tr th {\n",
              "        vertical-align: top;\n",
              "    }\n",
              "\n",
              "    .dataframe thead th {\n",
              "        text-align: right;\n",
              "    }\n",
              "</style>\n",
              "<table border=\"1\" class=\"dataframe\">\n",
              "  <thead>\n",
              "    <tr style=\"text-align: right;\">\n",
              "      <th></th>\n",
              "      <th>sum_sq</th>\n",
              "      <th>df</th>\n",
              "      <th>F</th>\n",
              "      <th>PR(&gt;F)</th>\n",
              "    </tr>\n",
              "  </thead>\n",
              "  <tbody>\n",
              "    <tr>\n",
              "      <th>Primary</th>\n",
              "      <td>25.308306</td>\n",
              "      <td>18.0</td>\n",
              "      <td>2.508383</td>\n",
              "      <td>0.000411</td>\n",
              "    </tr>\n",
              "    <tr>\n",
              "      <th>Residual</th>\n",
              "      <td>2887.836733</td>\n",
              "      <td>5152.0</td>\n",
              "      <td>NaN</td>\n",
              "      <td>NaN</td>\n",
              "    </tr>\n",
              "  </tbody>\n",
              "</table>\n",
              "</div>"
            ],
            "text/plain": [
              "               sum_sq      df         F    PR(>F)\n",
              "Primary     25.308306    18.0  2.508383  0.000411\n",
              "Residual  2887.836733  5152.0       NaN       NaN"
            ]
          },
          "execution_count": 116,
          "metadata": {},
          "output_type": "execute_result"
        }
      ],
      "source": [
        "model = ols('Rating ~ Primary', data=data).fit()\n",
        "sm.stats.anova_lm(model, typ=2)"
      ]
    },
    {
      "cell_type": "code",
      "execution_count": 117,
      "id": "42a70bc7",
      "metadata": {
        "id": "42a70bc7",
        "outputId": "823e7dc0-397c-4342-bec0-6c2495ed2890",
        "scrolled": true
      },
      "outputs": [
        {
          "data": {
            "text/html": [
              "<div>\n",
              "<style scoped>\n",
              "    .dataframe tbody tr th:only-of-type {\n",
              "        vertical-align: middle;\n",
              "    }\n",
              "\n",
              "    .dataframe tbody tr th {\n",
              "        vertical-align: top;\n",
              "    }\n",
              "\n",
              "    .dataframe thead th {\n",
              "        text-align: right;\n",
              "    }\n",
              "</style>\n",
              "<table border=\"1\" class=\"dataframe\">\n",
              "  <thead>\n",
              "    <tr style=\"text-align: right;\">\n",
              "      <th></th>\n",
              "      <th>sum_sq</th>\n",
              "      <th>df</th>\n",
              "      <th>F</th>\n",
              "      <th>PR(&gt;F)</th>\n",
              "    </tr>\n",
              "  </thead>\n",
              "  <tbody>\n",
              "    <tr>\n",
              "      <th>Languages</th>\n",
              "      <td>325.837716</td>\n",
              "      <td>579.0</td>\n",
              "      <td>0.998578</td>\n",
              "      <td>0.502661</td>\n",
              "    </tr>\n",
              "    <tr>\n",
              "      <th>Residual</th>\n",
              "      <td>2587.307324</td>\n",
              "      <td>4591.0</td>\n",
              "      <td>NaN</td>\n",
              "      <td>NaN</td>\n",
              "    </tr>\n",
              "  </tbody>\n",
              "</table>\n",
              "</div>"
            ],
            "text/plain": [
              "                sum_sq      df         F    PR(>F)\n",
              "Languages   325.837716   579.0  0.998578  0.502661\n",
              "Residual   2587.307324  4591.0       NaN       NaN"
            ]
          },
          "execution_count": 117,
          "metadata": {},
          "output_type": "execute_result"
        }
      ],
      "source": [
        "model = ols('Rating ~ Languages', data=data).fit()\n",
        "sm.stats.anova_lm(model, typ=2)"
      ]
    },
    {
      "cell_type": "code",
      "execution_count": 118,
      "id": "3d1bfc8c",
      "metadata": {
        "id": "3d1bfc8c",
        "outputId": "c38049f9-5427-4a83-e4c8-5f4758b9db99"
      },
      "outputs": [
        {
          "data": {
            "text/html": [
              "<div>\n",
              "<style scoped>\n",
              "    .dataframe tbody tr th:only-of-type {\n",
              "        vertical-align: middle;\n",
              "    }\n",
              "\n",
              "    .dataframe tbody tr th {\n",
              "        vertical-align: top;\n",
              "    }\n",
              "\n",
              "    .dataframe thead th {\n",
              "        text-align: right;\n",
              "    }\n",
              "</style>\n",
              "<table border=\"1\" class=\"dataframe\">\n",
              "  <thead>\n",
              "    <tr style=\"text-align: right;\">\n",
              "      <th></th>\n",
              "      <th>sum_sq</th>\n",
              "      <th>df</th>\n",
              "      <th>F</th>\n",
              "      <th>PR(&gt;F)</th>\n",
              "    </tr>\n",
              "  </thead>\n",
              "  <tbody>\n",
              "    <tr>\n",
              "      <th>Genres</th>\n",
              "      <td>343.208416</td>\n",
              "      <td>506.0</td>\n",
              "      <td>1.230959</td>\n",
              "      <td>0.000587</td>\n",
              "    </tr>\n",
              "    <tr>\n",
              "      <th>Residual</th>\n",
              "      <td>2569.936623</td>\n",
              "      <td>4664.0</td>\n",
              "      <td>NaN</td>\n",
              "      <td>NaN</td>\n",
              "    </tr>\n",
              "  </tbody>\n",
              "</table>\n",
              "</div>"
            ],
            "text/plain": [
              "               sum_sq      df         F    PR(>F)\n",
              "Genres     343.208416   506.0  1.230959  0.000587\n",
              "Residual  2569.936623  4664.0       NaN       NaN"
            ]
          },
          "execution_count": 118,
          "metadata": {},
          "output_type": "execute_result"
        }
      ],
      "source": [
        "model = ols('Rating ~ Genres', data=data).fit()\n",
        "sm.stats.anova_lm(model, typ=2)"
      ]
    },
    {
      "cell_type": "code",
      "execution_count": 119,
      "id": "ab74a2d9",
      "metadata": {
        "id": "ab74a2d9"
      },
      "outputs": [],
      "source": [
        "data.drop(['URL','Icon URL','Name','ID','Description','Languages','Rating','Primary','User Rating Count','Price','Age Rating','Size'],axis=1,inplace=True)\n",
        "#data.drop(['URL','Icon URL','Name','ID','Description','Languages'],axis=1,inplace=True)"
      ]
    },
    {
      "cell_type": "code",
      "execution_count": 120,
      "id": "2a4d73b9",
      "metadata": {
        "id": "2a4d73b9",
        "outputId": "a347e96f-dcff-40f9-e746-db4a13945e4f"
      },
      "outputs": [
        {
          "name": "stdout",
          "output_type": "stream",
          "text": [
            "<class 'pandas.core.frame.DataFrame'>\n",
            "Int64Index: 5171 entries, 0 to 5213\n",
            "Data columns (total 6 columns):\n",
            " #   Column                        Non-Null Count  Dtype  \n",
            "---  ------                        --------------  -----  \n",
            " 0   Developer                     5171 non-null   object \n",
            " 1   Primary Genre                 5171 non-null   object \n",
            " 2   Genres                        5171 non-null   object \n",
            " 3   Original Release Date         5171 non-null   int64  \n",
            " 4   Current Version Release Date  5171 non-null   int64  \n",
            " 5   Average User Rating           5171 non-null   float64\n",
            "dtypes: float64(1), int64(2), object(3)\n",
            "memory usage: 411.8+ KB\n"
          ]
        }
      ],
      "source": [
        "data.info()"
      ]
    },
    {
      "cell_type": "code",
      "execution_count": 121,
      "id": "5b928999",
      "metadata": {
        "id": "5b928999"
      },
      "outputs": [],
      "source": [
        "dumies1=pd.get_dummies(data['Developer'])\n",
        "dumies2=pd.get_dummies(data['Primary Genre'])\n",
        "\n",
        "dumies3=data['Genres'].str.get_dummies(sep=\",\")\n",
        "#dumies4=data['Languages'].str.get_dummies(sep=\",\")\n",
        "\n",
        "data=data.drop(['Developer'],axis=1)\n",
        "data=data.drop(['Primary Genre'],axis=1)\n",
        "data=data.drop(['Genres'],axis=1)\n",
        "#data=data.drop(['Languages'],axis=1)\n"
      ]
    },
    {
      "cell_type": "code",
      "execution_count": 122,
      "id": "2d1cb2d8",
      "metadata": {
        "id": "2d1cb2d8"
      },
      "outputs": [],
      "source": [
        "data=pd.concat([data,dumies1],axis='columns')\n",
        "data=pd.concat([data,dumies2],axis='columns')\n",
        "data=pd.concat([data,dumies3],axis='columns')\n",
        "#data=pd.concat([data,dumies4],axis='columns')"
      ]
    },
    {
      "cell_type": "code",
      "execution_count": 123,
      "id": "d3eaf04d",
      "metadata": {
        "id": "d3eaf04d",
        "outputId": "a1939ab3-f353-4725-b88e-4d61241de49e"
      },
      "outputs": [
        {
          "data": {
            "text/plain": [
              "(5171, 3162)"
            ]
          },
          "execution_count": 123,
          "metadata": {},
          "output_type": "execute_result"
        }
      ],
      "source": [
        "data.shape"
      ]
    },
    {
      "cell_type": "code",
      "execution_count": 124,
      "id": "0cb30acf",
      "metadata": {
        "id": "0cb30acf"
      },
      "outputs": [],
      "source": [
        "#data.reset_index(drop=True, inplace=True)"
      ]
    },
    {
      "cell_type": "code",
      "execution_count": 125,
      "id": "dbced8c3",
      "metadata": {
        "id": "dbced8c3"
      },
      "outputs": [],
      "source": [
        "X=data.drop('Average User Rating',axis=1)\n",
        "y=data['Average User Rating']"
      ]
    },
    {
      "cell_type": "code",
      "execution_count": 126,
      "id": "a97fa247",
      "metadata": {
        "id": "a97fa247"
      },
      "outputs": [],
      "source": [
        "from sklearn.model_selection import train_test_split\n",
        "\n",
        "X_train, X_test, y_train, y_test = train_test_split(X,y, test_size=0.20, random_state=2)"
      ]
    },
    {
      "cell_type": "code",
      "execution_count": 127,
      "id": "96ea48f0",
      "metadata": {
        "id": "96ea48f0"
      },
      "outputs": [],
      "source": [
        "train_data=pd.concat([X_train,y_train],axis='columns')"
      ]
    },
    {
      "cell_type": "code",
      "execution_count": 128,
      "id": "1cf11ab6",
      "metadata": {
        "id": "1cf11ab6",
        "outputId": "f2bd72c5-953d-44a9-a2da-e51b5602c594"
      },
      "outputs": [
        {
          "name": "stderr",
          "output_type": "stream",
          "text": [
            "/opt/anaconda3/lib/python3.10/site-packages/sklearn/base.py:420: UserWarning: X does not have valid feature names, but IsolationForest was fitted with feature names\n",
            "  warnings.warn(\n"
          ]
        },
        {
          "data": {
            "text/html": [
              "<style>#sk-container-id-2 {color: black;background-color: white;}#sk-container-id-2 pre{padding: 0;}#sk-container-id-2 div.sk-toggleable {background-color: white;}#sk-container-id-2 label.sk-toggleable__label {cursor: pointer;display: block;width: 100%;margin-bottom: 0;padding: 0.3em;box-sizing: border-box;text-align: center;}#sk-container-id-2 label.sk-toggleable__label-arrow:before {content: \"▸\";float: left;margin-right: 0.25em;color: #696969;}#sk-container-id-2 label.sk-toggleable__label-arrow:hover:before {color: black;}#sk-container-id-2 div.sk-estimator:hover label.sk-toggleable__label-arrow:before {color: black;}#sk-container-id-2 div.sk-toggleable__content {max-height: 0;max-width: 0;overflow: hidden;text-align: left;background-color: #f0f8ff;}#sk-container-id-2 div.sk-toggleable__content pre {margin: 0.2em;color: black;border-radius: 0.25em;background-color: #f0f8ff;}#sk-container-id-2 input.sk-toggleable__control:checked~div.sk-toggleable__content {max-height: 200px;max-width: 100%;overflow: auto;}#sk-container-id-2 input.sk-toggleable__control:checked~label.sk-toggleable__label-arrow:before {content: \"▾\";}#sk-container-id-2 div.sk-estimator input.sk-toggleable__control:checked~label.sk-toggleable__label {background-color: #d4ebff;}#sk-container-id-2 div.sk-label input.sk-toggleable__control:checked~label.sk-toggleable__label {background-color: #d4ebff;}#sk-container-id-2 input.sk-hidden--visually {border: 0;clip: rect(1px 1px 1px 1px);clip: rect(1px, 1px, 1px, 1px);height: 1px;margin: -1px;overflow: hidden;padding: 0;position: absolute;width: 1px;}#sk-container-id-2 div.sk-estimator {font-family: monospace;background-color: #f0f8ff;border: 1px dotted black;border-radius: 0.25em;box-sizing: border-box;margin-bottom: 0.5em;}#sk-container-id-2 div.sk-estimator:hover {background-color: #d4ebff;}#sk-container-id-2 div.sk-parallel-item::after {content: \"\";width: 100%;border-bottom: 1px solid gray;flex-grow: 1;}#sk-container-id-2 div.sk-label:hover label.sk-toggleable__label {background-color: #d4ebff;}#sk-container-id-2 div.sk-serial::before {content: \"\";position: absolute;border-left: 1px solid gray;box-sizing: border-box;top: 0;bottom: 0;left: 50%;z-index: 0;}#sk-container-id-2 div.sk-serial {display: flex;flex-direction: column;align-items: center;background-color: white;padding-right: 0.2em;padding-left: 0.2em;position: relative;}#sk-container-id-2 div.sk-item {position: relative;z-index: 1;}#sk-container-id-2 div.sk-parallel {display: flex;align-items: stretch;justify-content: center;background-color: white;position: relative;}#sk-container-id-2 div.sk-item::before, #sk-container-id-2 div.sk-parallel-item::before {content: \"\";position: absolute;border-left: 1px solid gray;box-sizing: border-box;top: 0;bottom: 0;left: 50%;z-index: -1;}#sk-container-id-2 div.sk-parallel-item {display: flex;flex-direction: column;z-index: 1;position: relative;background-color: white;}#sk-container-id-2 div.sk-parallel-item:first-child::after {align-self: flex-end;width: 50%;}#sk-container-id-2 div.sk-parallel-item:last-child::after {align-self: flex-start;width: 50%;}#sk-container-id-2 div.sk-parallel-item:only-child::after {width: 0;}#sk-container-id-2 div.sk-dashed-wrapped {border: 1px dashed gray;margin: 0 0.4em 0.5em 0.4em;box-sizing: border-box;padding-bottom: 0.4em;background-color: white;}#sk-container-id-2 div.sk-label label {font-family: monospace;font-weight: bold;display: inline-block;line-height: 1.2em;}#sk-container-id-2 div.sk-label-container {text-align: center;}#sk-container-id-2 div.sk-container {/* jupyter's `normalize.less` sets `[hidden] { display: none; }` but bootstrap.min.css set `[hidden] { display: none !important; }` so we also need the `!important` here to be able to override the default hidden behavior on the sphinx rendered scikit-learn.org. See: https://github.com/scikit-learn/scikit-learn/issues/21755 */display: inline-block !important;position: relative;}#sk-container-id-2 div.sk-text-repr-fallback {display: none;}</style><div id=\"sk-container-id-2\" class=\"sk-top-container\"><div class=\"sk-text-repr-fallback\"><pre>IsolationForest(contamination=0.1)</pre><b>In a Jupyter environment, please rerun this cell to show the HTML representation or trust the notebook. <br />On GitHub, the HTML representation is unable to render, please try loading this page with nbviewer.org.</b></div><div class=\"sk-container\" hidden><div class=\"sk-item\"><div class=\"sk-estimator sk-toggleable\"><input class=\"sk-toggleable__control sk-hidden--visually\" id=\"sk-estimator-id-2\" type=\"checkbox\" checked><label for=\"sk-estimator-id-2\" class=\"sk-toggleable__label sk-toggleable__label-arrow\">IsolationForest</label><div class=\"sk-toggleable__content\"><pre>IsolationForest(contamination=0.1)</pre></div></div></div></div></div>"
            ],
            "text/plain": [
              "IsolationForest(contamination=0.1)"
            ]
          },
          "execution_count": 128,
          "metadata": {},
          "output_type": "execute_result"
        }
      ],
      "source": [
        "from sklearn.ensemble import IsolationForest\n",
        "\n",
        "model_IF = IsolationForest(contamination=float(0.1))\n",
        "model_IF.fit(train_data)"
      ]
    },
    {
      "cell_type": "code",
      "execution_count": 129,
      "id": "51edc6f4",
      "metadata": {
        "id": "51edc6f4"
      },
      "outputs": [],
      "source": [
        "train_data['anomaly'] = model_IF.predict(train_data)\n",
        "#train_data['anomaly_scores'] = model_IF.decision_function(train_data)\n"
      ]
    },
    {
      "cell_type": "code",
      "execution_count": 130,
      "id": "323f525e",
      "metadata": {
        "id": "323f525e"
      },
      "outputs": [],
      "source": [
        "# anomaly=train_data.loc[train_data['anomaly']==-1]\n",
        "# anomaly_index=list(anomaly.index)\n",
        "# print(anomaly)"
      ]
    },
    {
      "cell_type": "code",
      "execution_count": 131,
      "id": "546be7f4",
      "metadata": {
        "id": "546be7f4"
      },
      "outputs": [],
      "source": [
        "data_without_outliers=train_data.loc[train_data['anomaly']!=-1]"
      ]
    },
    {
      "cell_type": "code",
      "execution_count": 132,
      "id": "95d7d382",
      "metadata": {
        "id": "95d7d382"
      },
      "outputs": [],
      "source": [
        "X_train=data_without_outliers.drop(['Average User Rating','anomaly'],axis=1)\n",
        "y_train=data_without_outliers['Average User Rating']"
      ]
    },
    {
      "cell_type": "code",
      "execution_count": 133,
      "id": "5bfa213e",
      "metadata": {
        "id": "5bfa213e"
      },
      "outputs": [],
      "source": [
        "from sklearn.preprocessing import StandardScaler\n",
        "sc = StandardScaler()\n",
        "X_train_std = sc.fit_transform(X_train)\n",
        "X_test_std = sc.transform(X_test)"
      ]
    },
    {
      "attachments": {},
      "cell_type": "markdown",
      "id": "ddbce005",
      "metadata": {},
      "source": [
        "## $ \\text{Decision Tree}  $"
      ]
    },
    {
      "cell_type": "code",
      "execution_count": 134,
      "id": "6d636045",
      "metadata": {},
      "outputs": [
        {
          "name": "stdout",
          "output_type": "stream",
          "text": [
            "Mean Square Error:  0.5082971001213908\n"
          ]
        }
      ],
      "source": [
        "from sklearn.tree import DecisionTreeRegressor\n",
        "from sklearn import metrics\n",
        "\n",
        "\n",
        "dt_regressor = DecisionTreeRegressor(max_depth = 4)\n",
        "\n",
        "dt_regressor.fit(X_train_std, y_train)\n",
        "\n",
        "y_pred_test = dt_regressor.predict(X_test_std)\n",
        "\n",
        "print('Mean Square Error: ', metrics.mean_squared_error(y_test, y_pred_test))"
      ]
    },
    {
      "attachments": {},
      "cell_type": "markdown",
      "id": "7a71430b",
      "metadata": {},
      "source": [
        "### Trials\n",
        "\n",
        "$ 3 \\to 0.5033803628609235  $\n",
        "\n",
        "$ 4 \\to 0.4968115700775305  $\n",
        "\n",
        "$ 5 \\to 0.49882988850678495  $\n",
        "\n",
        "$ 6 \\to 0.4980986877428733  $\n",
        "\n",
        "$ 7 \\to 0.5015411186467839  $\n",
        "\n",
        "$ 8 \\to 0.5015600207252191  $\n"
      ]
    },
    {
      "attachments": {},
      "cell_type": "markdown",
      "id": "6c34bc33",
      "metadata": {},
      "source": [
        "## $\\text{Random Forest}$"
      ]
    },
    {
      "cell_type": "code",
      "execution_count": 135,
      "id": "5378c003",
      "metadata": {},
      "outputs": [
        {
          "name": "stdout",
          "output_type": "stream",
          "text": [
            "Mean Square Error:  0.528930999280814\n"
          ]
        }
      ],
      "source": [
        "from sklearn.ensemble import RandomForestRegressor\n",
        "\n",
        "rf_regressor = RandomForestRegressor(n_estimators=8)\n",
        "\n",
        "rf_regressor.fit(X_train_std, y_train)\n",
        "\n",
        "y_pred_test = rf_regressor.predict(X_test_std)\n",
        "\n",
        "print('Mean Square Error: ', metrics.mean_squared_error(y_test, y_pred_test))"
      ]
    },
    {
      "attachments": {},
      "cell_type": "markdown",
      "id": "95aa6d84",
      "metadata": {},
      "source": [
        "## $\\text{SVR}$"
      ]
    },
    {
      "cell_type": "code",
      "execution_count": 141,
      "id": "a5243ddb",
      "metadata": {},
      "outputs": [
        {
          "name": "stdout",
          "output_type": "stream",
          "text": [
            "Mean Square Error:  0.47739554777171844\n"
          ]
        }
      ],
      "source": [
        "from sklearn.svm import SVR\n",
        "\n",
        "svr_regressor = SVR(kernel='sigmoid')\n",
        "\n",
        "svr_regressor.fit(X_train_std, y_train)\n",
        "\n",
        "y_pred_test = svr_regressor.predict(X_test_std)\n",
        "\n",
        "print('Mean Square Error: ', metrics.mean_squared_error(y_test, y_pred_test))"
      ]
    },
    {
      "attachments": {},
      "cell_type": "markdown",
      "id": "00dd757b",
      "metadata": {},
      "source": [
        "## $\\text{Linear Regression}$"
      ]
    },
    {
      "cell_type": "code",
      "execution_count": 137,
      "id": "9712272e",
      "metadata": {
        "id": "9712272e"
      },
      "outputs": [
        {
          "name": "stdout",
          "output_type": "stream",
          "text": [
            "Mean Square Error:  0.5144418193114796\n"
          ]
        }
      ],
      "source": [
        "from sklearn.linear_model import LinearRegression\n",
        "\n",
        "lr_regressor = LinearRegression()\n",
        "\n",
        "lr_regressor.fit(X_train, y_train)\n",
        "\n",
        "y_pred_test = lr_regressor.predict(X_test)\n",
        "\n",
        "print('Mean Square Error: ', metrics.mean_squared_error(y_test, y_pred_test))\n"
      ]
    },
    {
      "attachments": {},
      "cell_type": "markdown",
      "id": "9a6e9775",
      "metadata": {},
      "source": [
        "## $\\text{Lasso Regression}$"
      ]
    },
    {
      "cell_type": "code",
      "execution_count": 143,
      "id": "440a9b18",
      "metadata": {
        "id": "440a9b18"
      },
      "outputs": [
        {
          "name": "stdout",
          "output_type": "stream",
          "text": [
            "Mean Square Error:  0.5144418193114796\n"
          ]
        },
        {
          "name": "stderr",
          "output_type": "stream",
          "text": [
            "/opt/anaconda3/lib/python3.10/site-packages/sklearn/linear_model/_coordinate_descent.py:631: ConvergenceWarning: Objective did not converge. You might want to increase the number of iterations, check the scale of the features or consider increasing regularisation. Duality gap: 8.365e+02, tolerance: 2.067e-01\n",
            "  model = cd_fast.enet_coordinate_descent(\n"
          ]
        }
      ],
      "source": [
        "from sklearn.linear_model import Lasso\n",
        "\n",
        "lasso_regressor = Lasso(alpha=0.1)\n",
        "\n",
        "lasso_regressor.fit(X_train, y_train)\n",
        "\n",
        "y_pred_test = lasso_regressor.predict(X_test)\n",
        "\n",
        "\n",
        "print('Mean Square Error: ', metrics.mean_squared_error(y_test, y_pred_test))"
      ]
    },
    {
      "cell_type": "code",
      "execution_count": null,
      "id": "8f26d270",
      "metadata": {
        "id": "8f26d270"
      },
      "outputs": [],
      "source": []
    },
    {
      "cell_type": "code",
      "execution_count": null,
      "id": "a50b6584",
      "metadata": {
        "id": "a50b6584"
      },
      "outputs": [],
      "source": []
    },
    {
      "cell_type": "code",
      "execution_count": null,
      "id": "29af71ad",
      "metadata": {
        "id": "29af71ad"
      },
      "outputs": [],
      "source": []
    },
    {
      "cell_type": "code",
      "execution_count": null,
      "id": "7b03deed",
      "metadata": {
        "id": "7b03deed"
      },
      "outputs": [],
      "source": []
    },
    {
      "cell_type": "code",
      "execution_count": null,
      "id": "191aa48f",
      "metadata": {
        "id": "191aa48f"
      },
      "outputs": [],
      "source": []
    }
  ],
  "metadata": {
    "colab": {
      "include_colab_link": true,
      "provenance": [],
      "toc_visible": true
    },
    "kernelspec": {
      "display_name": "Python 3 (ipykernel)",
      "language": "python",
      "name": "python3"
    },
    "language_info": {
      "codemirror_mode": {
        "name": "ipython",
        "version": 3
      },
      "file_extension": ".py",
      "mimetype": "text/x-python",
      "name": "python",
      "nbconvert_exporter": "python",
      "pygments_lexer": "ipython3",
      "version": "3.10.9"
    }
  },
  "nbformat": 4,
  "nbformat_minor": 5
}
